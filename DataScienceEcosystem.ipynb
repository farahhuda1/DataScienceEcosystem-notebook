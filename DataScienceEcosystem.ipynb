{
 "cells": [
  {
   "cell_type": "markdown",
   "id": "7431820e",
   "metadata": {},
   "source": [
    "# Data Science Tools and Ecosystem  "
   ]
  },
  {
   "cell_type": "markdown",
   "id": "ac3a8aaa",
   "metadata": {},
   "source": [
    "## Dalam notebook ini, Alat dan Ekosistem Data Science dirangkum.\n"
   ]
  },
  {
   "cell_type": "markdown",
   "id": "99ca7415",
   "metadata": {},
   "source": [
    "Beberapa bahasa populer yang digunakan oleh Data Scientist adalah:\n",
    "1. Python  \n",
    "2. R  \n",
    "3. SQL  \n",
    "4. Julia  \n",
    "5. Scala "
   ]
  },
  {
   "cell_type": "markdown",
   "id": "1610c774",
   "metadata": {},
   "source": [
    "Beberapa pustaka yang umum digunakan oleh Data Scientist meliputi:\n",
    "1. NumPy – Untuk komputasi numerik dan operasi matriks.  \n",
    "2. Pandas – Untuk manipulasi dan analisis data.  \n",
    "3. Matplotlib – Untuk visualisasi data.  \n",
    "4. Scikit-learn – Untuk pembelajaran mesin.  \n",
    "5. TensorFlow – Untuk deep learning dan AI.  "
   ]
  },
  {
   "cell_type": "markdown",
   "id": "a6803290",
   "metadata": {},
   "source": [
    "| Alat Data Science |\n",
    "|------------------|\n",
    "| Jupyter Notebook |\n",
    "| RStudio          |\n",
    "| Apache Zeppelin  |"
   ]
  },
  {
   "cell_type": "markdown",
   "id": "971c80ec",
   "metadata": {},
   "source": [
    "### Berikut adalah beberapa contoh evaluasi ekspresi aritmatika di Python"
   ]
  },
  {
   "cell_type": "code",
   "execution_count": 8,
   "id": "bcb3d536",
   "metadata": {},
   "outputs": [
    {
     "data": {
      "text/plain": [
       "17"
      ]
     },
     "execution_count": 8,
     "metadata": {},
     "output_type": "execute_result"
    }
   ],
   "source": [
    "#Ini adalah ekspresi aritmatika sederhana untuk mengalikan kemudian menambah bilangan bulat\n",
    "(3*4)+5"
   ]
  },
  {
   "cell_type": "code",
   "execution_count": 9,
   "id": "bcc295f3",
   "metadata": {},
   "outputs": [
    {
     "data": {
      "text/plain": [
       "3.3333333333333335"
      ]
     },
     "execution_count": 9,
     "metadata": {},
     "output_type": "execute_result"
    }
   ],
   "source": [
    "#Ini akan mengonversi 200 menit menjadi jam dengan membagi 60\n",
    "200 / 60"
   ]
  },
  {
   "cell_type": "markdown",
   "id": "fa2e1643",
   "metadata": {},
   "source": [
    "**Tujuan:**  \n",
    "\n",
    "- Menjelajahi daftar bahasa populer untuk Data Science.  \n",
    "- Mempelajari pustaka yang umum digunakan dalam Data Science.  \n",
    "- Mengenal alat pengembangan open-source untuk Data Science.  \n",
    "- Mengevaluasi ekspresi aritmatika sederhana di Python.  \n",
    "- Mengonversi satuan waktu dari menit ke jam dalam Python.  \n"
   ]
  },
  {
   "cell_type": "markdown",
   "id": "3d2cfe89",
   "metadata": {},
   "source": [
    "## Penulis\n",
    "Farahhuda Atikah"
   ]
  }
 ],
 "metadata": {
  "kernelspec": {
   "display_name": "Python 3 (ipykernel)",
   "language": "python",
   "name": "python3"
  },
  "language_info": {
   "codemirror_mode": {
    "name": "ipython",
    "version": 3
   },
   "file_extension": ".py",
   "mimetype": "text/x-python",
   "name": "python",
   "nbconvert_exporter": "python",
   "pygments_lexer": "ipython3",
   "version": "3.9.13"
  }
 },
 "nbformat": 4,
 "nbformat_minor": 5
}
